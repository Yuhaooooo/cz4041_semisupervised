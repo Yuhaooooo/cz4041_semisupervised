{
 "cells": [
  {
   "cell_type": "code",
   "execution_count": null,
   "metadata": {},
   "outputs": [],
   "source": []
  },
  {
   "cell_type": "markdown",
   "metadata": {},
   "source": [
    "## --------------------------\n",
    "## Get data\n",
    "## --------------------------"
   ]
  },
  {
   "cell_type": "code",
   "execution_count": 2,
   "metadata": {},
   "outputs": [],
   "source": [
    "import pandas as pd\n",
    "import numpy as np\n",
    "import seaborn as sns\n",
    "\n",
    "processedDataStorePath = '../processedData/'"
   ]
  },
  {
   "cell_type": "code",
   "execution_count": 3,
   "metadata": {},
   "outputs": [],
   "source": [
    "X_train_labeled = np.load(processedDataStorePath+'X_train_labeled.npy')\n",
    "y_train_labeled = np.load(processedDataStorePath+'y_train_labeled.npy')\n",
    "X_trainA_labeled = np.load(processedDataStorePath+'X_trainA_labeled.npy')\n",
    "# y_trainA_labeled = np.load(processedDataStorePath+'y_trainA_labeled.npy')\n",
    "X_trainB_labeled = np.load(processedDataStorePath+'X_trainB_labeled.npy')\n",
    "# y_trainB_labeled = np.load(processedDataStorePath+'y_trainB_labeled.npy')\n",
    "X_train_unlabeled = np.load(processedDataStorePath+'X_train_unlabeled.npy')\n",
    "X_test = np.load(processedDataStorePath+'X_test.npy')\n",
    "y_test = np.load(processedDataStorePath+'y_test.npy')"
   ]
  },
  {
   "cell_type": "code",
   "execution_count": 4,
   "metadata": {},
   "outputs": [],
   "source": [
    "fa=[0, 2, 7, 8, 4]\n",
    "fb=[1, 5, 9, 3, 6]\n",
    "def splitFeatures(dataSet, featureList):\n",
    "    return (dataSet.T[featureList]).T\n",
    "X_testA = splitFeatures(X_test, fa)\n",
    "X_testB = splitFeatures(X_test, fb)\n",
    "X_trainA_unlabeled = splitFeatures(X_train_unlabeled, fa)\n",
    "X_trainB_unlabeled = splitFeatures(X_train_unlabeled, fb)"
   ]
  },
  {
   "cell_type": "markdown",
   "metadata": {},
   "source": [
    "## --------------------------\n",
    "## Testing\n",
    "## --------------------------"
   ]
  },
  {
   "cell_type": "code",
   "execution_count": 5,
   "metadata": {},
   "outputs": [],
   "source": [
    "from sklearn.metrics import classification_report, confusion_matrix  \n",
    "from sklearn.model_selection import train_test_split\n",
    "from sklearn.metrics import accuracy_score\n",
    "import random\n",
    "from sklearn.tree import DecisionTreeClassifier\n",
    "def testDecisonTree(X_train,y_train,X_test,y_test):\n",
    "    print(X_train.shape)\n",
    "    dt = DecisionTreeClassifier(random_state=0,max_depth=3,max_leaf_nodes=2)\n",
    "    dt.fit(X_train,y_train)\n",
    "    y_pred = dt.predict(X_test)\n",
    "    print('decision tree:',accuracy_score(y_test,y_pred),'\\n')\n",
    "    return dt,accuracy_score(y_test,y_pred)"
   ]
  },
  {
   "cell_type": "markdown",
   "metadata": {},
   "source": [
    "### self training"
   ]
  },
  {
   "cell_type": "code",
   "execution_count": 6,
   "metadata": {},
   "outputs": [
    {
     "name": "stdout",
     "output_type": "stream",
     "text": [
      "(384, 10)\n",
      "decision tree: 0.21291866028708134 \n",
      "\n"
     ]
    }
   ],
   "source": [
    "#base model\n",
    "dt,acc = testDecisonTree(X_train_labeled,y_train_labeled,X_test,y_test)"
   ]
  },
  {
   "cell_type": "code",
   "execution_count": 7,
   "metadata": {},
   "outputs": [],
   "source": [
    "import heapq\n",
    "\n",
    "# return all with same highest confidence\n",
    "def getIndexWithHighConfidence(data,p):\n",
    "    print('=========================================')\n",
    "    print('=========================================')\n",
    "    largestList=[]\n",
    "    smallestList=[]\n",
    "    largestValue = heapq.nlargest(1,data)[0]\n",
    "    print('largest value: ', largestValue)\n",
    "    smallestValue = heapq.nsmallest(1,data)[0]\n",
    "    print('smallest value: ', smallestValue)\n",
    "#     if largestValue>.7:\n",
    "    largestList = [idx for idx, val in enumerate(data) if abs(val-largestValue)<=p]\n",
    "#         if (len(largestList)>20):\n",
    "#             random.shuffle(largestList)\n",
    "#             largestList=largestList[:20]\n",
    "    print('len of largest list: ', len(largestList))\n",
    "#     if smallestValue<.3:\n",
    "    smallestList = [idx for idx, val in enumerate(data) if abs(val-smallestValue)<=p]\n",
    "#         if (len(smallestList)>20):\n",
    "#             random.shuffle(smallestList)\n",
    "#             smallestList=smallestList[:20]\n",
    "    print('len of smallest list: ', len(smallestList))\n",
    "    indexList = largestList + smallestList\n",
    "\n",
    "    print('=========================================')\n",
    "    print('=========================================')\n",
    "    \n",
    "    indexList.sort()\n",
    "    indexList.reverse()\n",
    "    return indexList"
   ]
  },
  {
   "cell_type": "code",
   "execution_count": 8,
   "metadata": {},
   "outputs": [
    {
     "name": "stdout",
     "output_type": "stream",
     "text": [
      "=========================================\n",
      "=========================================\n",
      "largest value:  10.0\n",
      "smallest value:  7.0\n",
      "len of largest list:  277\n",
      "len of smallest list:  141\n",
      "=========================================\n",
      "=========================================\n"
     ]
    }
   ],
   "source": [
    "prob = 0.001\n",
    "a=getIndexWithHighConfidence(dt.predict(X_test),prob)\n"
   ]
  },
  {
   "cell_type": "code",
   "execution_count": 9,
   "metadata": {},
   "outputs": [
    {
     "name": "stdout",
     "output_type": "stream",
     "text": [
      "(384, 10)\n",
      "decision tree: 0.21291866028708134 \n",
      "\n",
      "=========================================\n",
      "=========================================\n",
      "largest value:  10.0\n",
      "smallest value:  7.0\n",
      "len of largest list:  277\n",
      "len of smallest list:  141\n",
      "=========================================\n",
      "=========================================\n",
      "number of newly added:  418\n",
      "(802, 10)\n",
      "decision tree: 0.1507177033492823 \n",
      "\n",
      "=========================================\n",
      "=========================================\n",
      "largest value:  10.0\n",
      "smallest value:  10.0\n",
      "len of largest list:  418\n",
      "len of smallest list:  418\n",
      "=========================================\n",
      "=========================================\n",
      "number of newly added:  836\n",
      "(1638, 10)\n",
      "decision tree: 0.1507177033492823 \n",
      "\n",
      "=========================================\n",
      "=========================================\n",
      "largest value:  10.0\n",
      "smallest value:  10.0\n",
      "len of largest list:  418\n",
      "len of smallest list:  418\n",
      "=========================================\n",
      "=========================================\n",
      "number of newly added:  836\n",
      "(2474, 10)\n",
      "decision tree: 0.1507177033492823 \n",
      "\n",
      "=========================================\n",
      "=========================================\n",
      "largest value:  10.0\n",
      "smallest value:  10.0\n",
      "len of largest list:  418\n",
      "len of smallest list:  418\n",
      "=========================================\n",
      "=========================================\n",
      "number of newly added:  836\n",
      "(3310, 10)\n",
      "decision tree: 0.1507177033492823 \n",
      "\n",
      "=========================================\n",
      "=========================================\n",
      "largest value:  10.0\n",
      "smallest value:  10.0\n",
      "len of largest list:  418\n",
      "len of smallest list:  418\n",
      "=========================================\n",
      "=========================================\n"
     ]
    },
    {
     "ename": "IndexError",
     "evalue": "index 389 is out of bounds for axis 0 with size 389",
     "output_type": "error",
     "traceback": [
      "\u001b[0;31m---------------------------------------------------------------------------\u001b[0m",
      "\u001b[0;31mIndexError\u001b[0m                                Traceback (most recent call last)",
      "\u001b[0;32m<ipython-input-9-9d376f147e0d>\u001b[0m in \u001b[0;36m<module>\u001b[0;34m()\u001b[0m\n\u001b[1;32m     21\u001b[0m \u001b[0;34m\u001b[0m\u001b[0m\n\u001b[1;32m     22\u001b[0m     \u001b[0;32mfor\u001b[0m \u001b[0mindex\u001b[0m \u001b[0;32min\u001b[0m \u001b[0mgetIndexWithHighConfidence\u001b[0m\u001b[0;34m(\u001b[0m\u001b[0my_pseudo\u001b[0m\u001b[0;34m,\u001b[0m\u001b[0mprob\u001b[0m\u001b[0;34m)\u001b[0m\u001b[0;34m:\u001b[0m\u001b[0;34m\u001b[0m\u001b[0m\n\u001b[0;32m---> 23\u001b[0;31m         \u001b[0mX_new\u001b[0m\u001b[0;34m.\u001b[0m\u001b[0mappend\u001b[0m\u001b[0;34m(\u001b[0m\u001b[0mX_train_unlabeled\u001b[0m\u001b[0;34m[\u001b[0m\u001b[0mindex\u001b[0m\u001b[0;34m]\u001b[0m\u001b[0;34m)\u001b[0m\u001b[0;34m\u001b[0m\u001b[0m\n\u001b[0m\u001b[1;32m     24\u001b[0m         \u001b[0my_new\u001b[0m\u001b[0;34m.\u001b[0m\u001b[0mappend\u001b[0m\u001b[0;34m(\u001b[0m\u001b[0my_pseudo\u001b[0m\u001b[0;34m[\u001b[0m\u001b[0mindex\u001b[0m\u001b[0;34m]\u001b[0m\u001b[0;34m)\u001b[0m\u001b[0;34m\u001b[0m\u001b[0m\n\u001b[1;32m     25\u001b[0m         \u001b[0mX_train_unlabeled\u001b[0m\u001b[0;34m=\u001b[0m\u001b[0mnp\u001b[0m\u001b[0;34m.\u001b[0m\u001b[0mdelete\u001b[0m\u001b[0;34m(\u001b[0m\u001b[0mX_train_unlabeled\u001b[0m\u001b[0;34m,\u001b[0m\u001b[0mindex\u001b[0m\u001b[0;34m,\u001b[0m\u001b[0;36m0\u001b[0m\u001b[0;34m)\u001b[0m \u001b[0;31m# 0 is row\u001b[0m\u001b[0;34m\u001b[0m\u001b[0m\n",
      "\u001b[0;31mIndexError\u001b[0m: index 389 is out of bounds for axis 0 with size 389"
     ]
    }
   ],
   "source": [
    "from matplotlib import pyplot as plt\n",
    "def drawLine(data):\n",
    "    dataRange = [i for i in range(1,len(data)+1)]\n",
    "    df = pd.DataFrame({'x':dataRange, 'y':data})\n",
    "    plt.plot( 'x', 'y', data=df, marker='o', color='mediumvioletred')\n",
    "    plt.show()\n",
    "\n",
    "\n",
    "accuracy=[]\n",
    "prob = 0.002\n",
    "\n",
    "dt,acc = testDecisonTree(X_train_labeled,y_train_labeled,X_test,y_test)\n",
    "accuracy.append(acc)\n",
    "\n",
    "for i in range(100):\n",
    "\n",
    "    y_pseudo = np.array(dt.predict(X_test))\n",
    "    \n",
    "    X_new=[]\n",
    "    y_new=[]\n",
    "\n",
    "    for index in getIndexWithHighConfidence(y_pseudo,prob):\n",
    "        X_new.append(X_train_unlabeled[index])\n",
    "        y_new.append(y_pseudo[index])\n",
    "        X_train_unlabeled=np.delete(X_train_unlabeled,index,0) # 0 is row\n",
    "\n",
    "    X_new=np.array(X_new)\n",
    "    y_new=np.array(y_new)\n",
    "    print('number of newly added: ',len(y_new))\n",
    "\n",
    "    X_train_labeled = np.concatenate((X_train_labeled,X_new),axis=0)\n",
    "    y_train_labeled = np.concatenate((y_train_labeled,y_new),axis=0)\n",
    "    \n",
    "    if i%10==0:\n",
    "        prob=prob*1.5\n",
    "\n",
    "    dt,acc = testDecisonTree(X_train_labeled,y_train_labeled,X_test,y_test)\n",
    "    accuracy.append(acc)\n",
    "    \n",
    "drawLine(accuracy)"
   ]
  },
  {
   "cell_type": "code",
   "execution_count": null,
   "metadata": {},
   "outputs": [],
   "source": []
  },
  {
   "cell_type": "code",
   "execution_count": null,
   "metadata": {},
   "outputs": [],
   "source": []
  },
  {
   "cell_type": "code",
   "execution_count": null,
   "metadata": {},
   "outputs": [],
   "source": [
    "dta = testDecisonTree(X_trainA_labeled,y_train_labeled,X_testA,y_test)"
   ]
  },
  {
   "cell_type": "code",
   "execution_count": null,
   "metadata": {},
   "outputs": [],
   "source": [
    "dtb = testDecisonTree(X_trainB_labeled,y_train_labeled,X_testB,y_test)"
   ]
  },
  {
   "cell_type": "code",
   "execution_count": null,
   "metadata": {},
   "outputs": [],
   "source": []
  },
  {
   "cell_type": "code",
   "execution_count": null,
   "metadata": {},
   "outputs": [],
   "source": [
    "\n"
   ]
  },
  {
   "cell_type": "code",
   "execution_count": null,
   "metadata": {},
   "outputs": [],
   "source": [
    "# create a copy for testing purpose\n",
    "# X_trainval_1 = \n",
    "# X_unlabeled_1=X_unlabeled[:]\n",
    "# y_unlabeled_1=y_unlabeled[:]"
   ]
  }
 ],
 "metadata": {
  "kernelspec": {
   "display_name": "Python 3",
   "language": "python",
   "name": "python3"
  },
  "language_info": {
   "codemirror_mode": {
    "name": "ipython",
    "version": 3
   },
   "file_extension": ".py",
   "mimetype": "text/x-python",
   "name": "python",
   "nbconvert_exporter": "python",
   "pygments_lexer": "ipython3",
   "version": "3.6.5"
  }
 },
 "nbformat": 4,
 "nbformat_minor": 2
}
